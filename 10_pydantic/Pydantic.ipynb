{
  "cells": [
    {
      "cell_type": "markdown",
      "id": "135d44d6-009b-416d-b521-f9ae6d499097",
      "metadata": {},
      "source": [
        "# Pydantic"
      ]
    },
    {
      "cell_type": "markdown",
      "id": "3625e722-a2b7-4101-80e3-c68c539f3e15",
      "metadata": {},
      "source": [
        "## dataclasses"
      ]
    },
    {
      "cell_type": "code",
      "execution_count": 1,
      "id": "a61fa3e2-7e78-4eea-9d12-4c0917f423c3",
      "metadata": {},
      "outputs": [],
      "source": [
        "from dataclasses import dataclass\n",
        "\n",
        "class Foo:\n",
        "    bar: int\n",
        "    baz: str\n",
        "    \n",
        "    \n",
        "# equvivalent to \n",
        "class Foo2:\n",
        "    def __init__(self, bar: int, baz: str):\n",
        "        self.bar = bar\n",
        "        self.baz = baz\n",
        "    \n",
        "    def __repr__(self):\n",
        "        return f\"Foo2(bar={self.bar}, baz={self.baz})\""
      ]
    },
    {
      "cell_type": "code",
      "execution_count": 2,
      "id": "41732f54-0c21-419f-94b5-e477de01c7f5",
      "metadata": {},
      "outputs": [
        {
          "data": {
            "text/plain": [
              "Foo(bar=42, baz='test')"
            ]
          },
          "execution_count": 2,
          "metadata": {},
          "output_type": "execute_result"
        }
      ],
      "source": [
        "foo = Foo(42, \"test\")\n",
        "foo"
      ]
    },
    {
      "cell_type": "code",
      "execution_count": 3,
      "id": "8cfeb706-7b45-4506-af0d-523d5df8be75",
      "metadata": {},
      "outputs": [
        {
          "data": {
            "text/plain": [
              "Foo2(bar=42, baz=test)"
            ]
          },
          "execution_count": 3,
          "metadata": {},
          "output_type": "execute_result"
        }
      ],
      "source": [
        "foo2 = Foo2(42, \"test\")\n",
        "foo2"
      ]
    },
    {
      "cell_type": "markdown",
      "id": "95b2bee3-40fc-4f79-b499-b3f9e20aa49d",
      "metadata": {},
      "source": [
        "Dataclasses don't check the types."
      ]
    },
    {
      "cell_type": "code",
      "execution_count": 4,
      "id": "60d4a981-65b5-411e-beb1-840d8d4dbaec",
      "metadata": {},
      "outputs": [
        {
          "data": {
            "text/plain": [
              "Foo(bar='wrong', baz='input')"
            ]
          },
          "execution_count": 4,
          "metadata": {},
          "output_type": "execute_result"
        }
      ],
      "source": [
        "Foo(\"wrong\", \"input\")"
      ]
    },
    {
      "cell_type": "markdown",
      "id": "196c27f8-6e9f-459c-badd-9b71d07d02e2",
      "metadata": {},
      "source": [
        "## pydantic"
      ]
    },
    {
      "cell_type": "code",
      "execution_count": null,
      "id": "9e97a356-aa15-46a5-b88e-18d7d385191b",
      "metadata": {},
      "outputs": [],
      "source": [
        "! pip install pydantic"
      ]
    },
    {
      "cell_type": "code",
      "execution_count": 6,
      "id": "25e0d3db-9956-423d-8130-deb234d895ed",
      "metadata": {},
      "outputs": [],
      "source": [
        "from pydantic import BaseModel\n",
        "\n",
        "class PydandicFoo(BaseModel):\n",
        "    bar: int\n",
        "    baz: str"
      ]
    },
    {
      "cell_type": "code",
      "execution_count": 7,
      "id": "68d252a4-87c1-42f3-a9e6-983c0535c2c9",
      "metadata": {},
      "outputs": [
        {
          "data": {
            "text/plain": [
              "PydandicFoo(bar=42, baz='test')"
            ]
          },
          "execution_count": 7,
          "metadata": {},
          "output_type": "execute_result"
        }
      ],
      "source": [
        "foo = PydandicFoo(bar=42, baz=\"test\")\n",
        "foo"
      ]
    },
    {
      "cell_type": "markdown",
      "id": "6e418c61-0690-4028-b480-42f85fbefee8",
      "metadata": {},
      "source": [
        "## Type validation at runtime"
      ]
    },
    {
      "cell_type": "code",
      "execution_count": 8,
      "id": "9efd4764-7d28-47bd-9254-4ced55dcfe8e",
      "metadata": {},
      "outputs": [
        {
          "ename": "ValidationError",
          "evalue": "1 validation error for PydandicFoo\nbar\n  value is not a valid integer (type=type_error.integer)",
          "output_type": "error",
          "traceback": [
            "\u001b[0;31m---------------------------------------------------------------------------\u001b[0m",
            "\u001b[0;31mValidationError\u001b[0m                           Traceback (most recent call last)",
            "Input \u001b[0;32mIn [8]\u001b[0m, in \u001b[0;36m<cell line: 1>\u001b[0;34m()\u001b[0m\n\u001b[0;32m----> 1\u001b[0m foo \u001b[38;5;241m=\u001b[39m \u001b[43mPydandicFoo\u001b[49m\u001b[43m(\u001b[49m\u001b[43mbar\u001b[49m\u001b[38;5;241;43m=\u001b[39;49m\u001b[38;5;124;43m\"\u001b[39;49m\u001b[38;5;124;43minvalid\u001b[39;49m\u001b[38;5;124;43m\"\u001b[39;49m\u001b[43m,\u001b[49m\u001b[43m \u001b[49m\u001b[43mbaz\u001b[49m\u001b[38;5;241;43m=\u001b[39;49m\u001b[38;5;124;43m\"\u001b[39;49m\u001b[38;5;124;43minput\u001b[39;49m\u001b[38;5;124;43m\"\u001b[39;49m\u001b[43m)\u001b[49m\n\u001b[1;32m      2\u001b[0m foo\n",
            "File \u001b[0;32m~/.local/share/virtualenvs/ETA-Core-YvvGFfO9/lib/python3.9/site-packages/pydantic/main.py:331\u001b[0m, in \u001b[0;36mpydantic.main.BaseModel.__init__\u001b[0;34m()\u001b[0m\n",
            "\u001b[0;31mValidationError\u001b[0m: 1 validation error for PydandicFoo\nbar\n  value is not a valid integer (type=type_error.integer)"
          ]
        }
      ],
      "source": [
        "foo = PydandicFoo(bar=\"invalid\", baz=\"input\")\n",
        "foo"
      ]
    },
    {
      "cell_type": "markdown",
      "id": "7c3f37c3-ca50-4452-86c0-17cd0243f004",
      "metadata": {},
      "source": [
        "## Automatic conversions of types if possible"
      ]
    },
    {
      "cell_type": "code",
      "execution_count": 9,
      "id": "8e9a2660-0a5c-4a37-a084-38db7937adb3",
      "metadata": {},
      "outputs": [
        {
          "data": {
            "text/plain": [
              "PydandicFoo(bar=42, baz='input')"
            ]
          },
          "execution_count": 9,
          "metadata": {},
          "output_type": "execute_result"
        }
      ],
      "source": [
        "foo = PydandicFoo(bar=\"42\", baz=\"input\")\n",
        "foo"
      ]
    },
    {
      "cell_type": "markdown",
      "id": "d9041b07-b189-4ce0-a62b-366cadbb52d5",
      "metadata": {},
      "source": [
        "## Defaults values"
      ]
    },
    {
      "cell_type": "code",
      "execution_count": 10,
      "id": "42379412-ecb2-48b7-9322-0577dd16d53c",
      "metadata": {},
      "outputs": [],
      "source": [
        "from datetime import datetime\n",
        "from pydantic import Field\n",
        "\n",
        "class Order(BaseModel):\n",
        "    item: str = \"Apples\"\n",
        "    ts: datetime = Field(default_factory=datetime.now)"
      ]
    },
    {
      "cell_type": "code",
      "execution_count": 11,
      "id": "2b6285c2-c556-4fd2-9d54-00abbed7b433",
      "metadata": {},
      "outputs": [
        {
          "data": {
            "text/plain": [
              "Order(item='Apples', ts=datetime.datetime(2022, 5, 6, 11, 54, 41, 754528))"
            ]
          },
          "execution_count": 11,
          "metadata": {},
          "output_type": "execute_result"
        }
      ],
      "source": [
        "order = Order()\n",
        "order"
      ]
    },
    {
      "cell_type": "code",
      "execution_count": 12,
      "id": "476243a5-68a8-4493-b3b9-9e137cf8b751",
      "metadata": {},
      "outputs": [
        {
          "data": {
            "text/plain": [
              "Order(item='Apples', ts=datetime.datetime(2022, 5, 6, 11, 54, 42, 78755))"
            ]
          },
          "execution_count": 12,
          "metadata": {},
          "output_type": "execute_result"
        }
      ],
      "source": [
        "Order()"
      ]
    },
    {
      "cell_type": "markdown",
      "id": "45f229ed-07ed-4347-bbe4-e2f3c0d7965f",
      "metadata": {},
      "source": [
        "## Custom Validators"
      ]
    },
    {
      "cell_type": "code",
      "execution_count": 13,
      "id": "27534923-f989-4216-bf99-beddce0bb064",
      "metadata": {},
      "outputs": [],
      "source": [
        "from pydantic import validator\n",
        "\n",
        "class UserModel(BaseModel):\n",
        "    name: str\n",
        "    username: str\n",
        "\n",
        "    @validator('name')\n",
        "    def name_must_contain_space(cls, v):\n",
        "        if ' ' not in v:\n",
        "            raise ValueError('must contain a space')\n",
        "        return v.title()"
      ]
    },
    {
      "cell_type": "code",
      "execution_count": 14,
      "id": "484aa84a-03ac-40a1-9e8d-51a77998d9a1",
      "metadata": {},
      "outputs": [
        {
          "ename": "ValidationError",
          "evalue": "1 validation error for UserModel\nname\n  must contain a space (type=value_error)",
          "output_type": "error",
          "traceback": [
            "\u001b[0;31m---------------------------------------------------------------------------\u001b[0m",
            "\u001b[0;31mValidationError\u001b[0m                           Traceback (most recent call last)",
            "Input \u001b[0;32mIn [14]\u001b[0m, in \u001b[0;36m<cell line: 1>\u001b[0;34m()\u001b[0m\n\u001b[0;32m----> 1\u001b[0m \u001b[43mUserModel\u001b[49m\u001b[43m(\u001b[49m\u001b[43mname\u001b[49m\u001b[38;5;241;43m=\u001b[39;49m\u001b[38;5;124;43m\"\u001b[39;49m\u001b[38;5;124;43mJakobKogler\u001b[39;49m\u001b[38;5;124;43m\"\u001b[39;49m\u001b[43m,\u001b[49m\u001b[43m \u001b[49m\u001b[43musername\u001b[49m\u001b[38;5;241;43m=\u001b[39;49m\u001b[38;5;124;43m\"\u001b[39;49m\u001b[38;5;124;43mjakob\u001b[39;49m\u001b[38;5;124;43m\"\u001b[39;49m\u001b[43m)\u001b[49m\n",
            "File \u001b[0;32m~/.local/share/virtualenvs/ETA-Core-YvvGFfO9/lib/python3.9/site-packages/pydantic/main.py:331\u001b[0m, in \u001b[0;36mpydantic.main.BaseModel.__init__\u001b[0;34m()\u001b[0m\n",
            "\u001b[0;31mValidationError\u001b[0m: 1 validation error for UserModel\nname\n  must contain a space (type=value_error)"
          ]
        }
      ],
      "source": [
        "UserModel(name=\"JakobKogler\", username=\"jakob\")"
      ]
    },
    {
      "cell_type": "markdown",
      "id": "e5a7e3a7-3e34-46aa-8fc7-cba6f2d11a5d",
      "metadata": {},
      "source": [
        "## Performance\n",
        "\n",
        "Validating and converting takes time, in deeply nested data or in huge amounts of data, you might want to use the `.construct` method, which just assigns data without validating it. This can be 20x times faster!"
      ]
    },
    {
      "cell_type": "code",
      "execution_count": 15,
      "id": "5437adf5-33fd-464a-a7b2-d2d1d3b5c337",
      "metadata": {},
      "outputs": [
        {
          "data": {
            "text/plain": [
              "UserModel(name='JakobKogler', username='jakob')"
            ]
          },
          "execution_count": 15,
          "metadata": {},
          "output_type": "execute_result"
        }
      ],
      "source": [
        "UserModel.construct(name=\"JakobKogler\", username=\"jakob\")"
      ]
    },
    {
      "cell_type": "markdown",
      "id": "9b9e03bf-4c6d-4d08-a392-801ce58343e0",
      "metadata": {},
      "source": [
        "## Recursive Models"
      ]
    },
    {
      "cell_type": "code",
      "execution_count": 16,
      "id": "2081bfe8-a5db-4936-998e-07444c8d1ef5",
      "metadata": {},
      "outputs": [],
      "source": [
        "class Person(BaseModel):\n",
        "    name: str\n",
        "\n",
        "class Company(BaseModel):\n",
        "    company_name: str\n",
        "    ceo: Person"
      ]
    },
    {
      "cell_type": "code",
      "execution_count": 17,
      "id": "12eda70a-e0c4-4bd4-8fbd-10465e3aa8d5",
      "metadata": {},
      "outputs": [
        {
          "data": {
            "text/plain": [
              "Company(company_name='Cloudflight', ceo=Person(name='Roger'))"
            ]
          },
          "execution_count": 17,
          "metadata": {},
          "output_type": "execute_result"
        }
      ],
      "source": [
        "company = Company(**{\"company_name\": \"Cloudflight\", \"ceo\": {\"name\": \"Roger\"}})\n",
        "company"
      ]
    },
    {
      "cell_type": "code",
      "execution_count": 18,
      "id": "d18d79be-32ae-43ff-9166-7c1031324d90",
      "metadata": {},
      "outputs": [
        {
          "data": {
            "text/plain": [
              "'Roger'"
            ]
          },
          "execution_count": 18,
          "metadata": {},
          "output_type": "execute_result"
        }
      ],
      "source": [
        "company.ceo.name"
      ]
    },
    {
      "cell_type": "markdown",
      "id": "904e9fb0-8027-4b4e-9847-9940c9aca243",
      "metadata": {},
      "source": [
        "## Exporting and importing"
      ]
    },
    {
      "cell_type": "code",
      "execution_count": 19,
      "id": "e2c3928e-f404-4ce4-ba99-6f5635f64d28",
      "metadata": {},
      "outputs": [
        {
          "data": {
            "text/plain": [
              "{'company_name': 'Cloudflight', 'ceo': {'name': 'Roger'}}"
            ]
          },
          "execution_count": 19,
          "metadata": {},
          "output_type": "execute_result"
        }
      ],
      "source": [
        "company.dict()"
      ]
    },
    {
      "cell_type": "code",
      "execution_count": 20,
      "id": "55cac293-9c52-415e-be94-1bef0b031da6",
      "metadata": {},
      "outputs": [
        {
          "data": {
            "text/plain": [
              "{'ceo': {'name': 'Roger'}}"
            ]
          },
          "execution_count": 20,
          "metadata": {},
          "output_type": "execute_result"
        }
      ],
      "source": [
        "company.dict(exclude={\"company_name\"}, )"
      ]
    },
    {
      "cell_type": "code",
      "execution_count": 21,
      "id": "7561c5e2-7147-42b4-8909-1a83e6607c0a",
      "metadata": {},
      "outputs": [
        {
          "data": {
            "text/plain": [
              "'{\"company_name\": \"Cloudflight\", \"ceo\": {\"name\": \"Roger\"}}'"
            ]
          },
          "execution_count": 21,
          "metadata": {},
          "output_type": "execute_result"
        }
      ],
      "source": [
        "company.json()"
      ]
    },
    {
      "cell_type": "code",
      "execution_count": 22,
      "id": "fb82a6e6-4643-454b-b457-fc9155b00ad2",
      "metadata": {},
      "outputs": [
        {
          "data": {
            "text/plain": [
              "Company(company_name='Cloudflight', ceo=Person(name='Roger'))"
            ]
          },
          "execution_count": 22,
          "metadata": {},
          "output_type": "execute_result"
        }
      ],
      "source": [
        "Company.parse_file(\"company.json\")"
      ]
    },
    {
      "cell_type": "markdown",
      "id": "1dbb7231-b6ff-48d2-b7c8-73ad30a88488",
      "metadata": {},
      "source": [
        "## Static type checking\n",
        "\n",
        "Mypy can't deal with the autogenerated initialization methods.\n",
        "Activate the plugin in the `mypy.ini` (or `setup.cfg`) and it works.\n",
        "https://pydantic-docs.helpmanual.io/mypy_plugin/"
      ]
    },
    {
      "cell_type": "markdown",
      "id": "9a494472-5f36-4b22-8947-587e0be5a576",
      "metadata": {},
      "source": [
        "## ORM mode\n",
        "\n",
        "When you have a database (e.g. `SQLAlchemy`) model, and you want to quickly convert it into a Pydantic model."
      ]
    },
    {
      "cell_type": "code",
      "execution_count": 23,
      "id": "8da72cd0-9d1d-4f48-8dac-371ba7d2913b",
      "metadata": {},
      "outputs": [],
      "source": [
        "@dataclass\n",
        "class CompanyORM:\n",
        "    company_name: str\n",
        "\n",
        "\n",
        "class CompanyModel(BaseModel):\n",
        "    company_name: str\n",
        "\n",
        "    class Config:\n",
        "        orm_mode = True"
      ]
    },
    {
      "cell_type": "code",
      "execution_count": 24,
      "id": "ad84aae0-9d4a-4c17-a4e6-c55e66421c32",
      "metadata": {},
      "outputs": [
        {
          "data": {
            "text/plain": [
              "CompanyORM(company_name='Cloudflight')"
            ]
          },
          "execution_count": 24,
          "metadata": {},
          "output_type": "execute_result"
        }
      ],
      "source": [
        "orm = CompanyORM(company_name=\"Cloudflight\")\n",
        "orm"
      ]
    },
    {
      "cell_type": "code",
      "execution_count": 25,
      "id": "232b73a0-6cc9-4a66-8bb0-ef49bdb35efb",
      "metadata": {},
      "outputs": [
        {
          "data": {
            "text/plain": [
              "CompanyModel(company_name='Cloudflight')"
            ]
          },
          "execution_count": 25,
          "metadata": {},
          "output_type": "execute_result"
        }
      ],
      "source": [
        "company = CompanyModel.from_orm(orm)\n",
        "company"
      ]
    },
    {
      "cell_type": "markdown",
      "id": "834fa039-05f9-44b2-bf20-238b0e9e9e57",
      "metadata": {},
      "source": [
        "## FastAPI\n",
        "\n",
        "Integration into API Server Framework, to automatically create `openapi.json` and validation errors (status code 422).\n",
        "Shown at customer project."
      ]
    }
  ],
  "metadata": {
    "kernelspec": {
      "display_name": "Python 3 (ipykernel)",
      "language": "python",
      "name": "python3"
    },
    "language_info": {
      "codemirror_mode": {
        "name": "ipython",
        "version": 3
      },
      "file_extension": ".py",
      "mimetype": "text/x-python",
      "name": "python",
      "nbconvert_exporter": "python",
      "pygments_lexer": "ipython3",
      "version": "3.9.6"
    }
  },
  "nbformat": 4,
  "nbformat_minor": 5
}
